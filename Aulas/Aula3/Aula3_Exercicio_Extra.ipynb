{
  "cells": [
    {
      "cell_type": "markdown",
      "metadata": {
        "id": "view-in-github",
        "colab_type": "text"
      },
      "source": [
        "<a href=\"https://colab.research.google.com/github/kuelka/demo/blob/main/Aulas/Aula3/Aula3_Exercicio_Extra.ipynb\" target=\"_parent\"><img src=\"https://colab.research.google.com/assets/colab-badge.svg\" alt=\"Open In Colab\"/></a>"
      ]
    },
    {
      "cell_type": "markdown",
      "metadata": {
        "id": "bPRyaJ53CZ4U"
      },
      "source": [
        "# Aula 3 - Exercícios Extra - Estruturas de Dados Nativas do Python\n"
      ]
    },
    {
      "cell_type": "markdown",
      "metadata": {
        "id": "W38cfG6gCZ4V"
      },
      "source": [
        "### 3.4 Usando um defaultdict, escreva uma função Python para transformar uma lista de listas num dicionário. Os valores repetidos de uma lista devem ser associados a mesma chave do dicionário, como no exemplo abaixo.\n",
        "#### Exemplo:  ```[ [\"carro\", 10], [\"moto\", 20], [\"trem\", 5], [\"carro\", 30], [\"caminhao\", 20] ]```\n",
        "#### Resultado esperado: ```{\"carro\": [10, 30], \"moto\": [20], \"trem\": [5], \"caminhao\": [20] }```"
      ]
    },
    {
      "cell_type": "code",
      "execution_count": null,
      "metadata": {
        "id": "XLdjPZyuCZ4W",
        "nbgrader": {
          "grade": false,
          "grade_id": "cell-9959d8353ef5e348",
          "locked": false,
          "schema_version": 3,
          "solution": true,
          "task": false
        }
      },
      "outputs": [],
      "source": [
        "def dict_from_list(lista):\n",
        "    ### BEGIN SOLUTION\n",
        "\n",
        "    ### END SOLUTION"
      ]
    },
    {
      "cell_type": "code",
      "execution_count": null,
      "metadata": {
        "id": "1c5QU-F8CZ4W"
      },
      "outputs": [],
      "source": [
        "## Faça seus testes aqui\n",
        "lista = [ [\"carro\", 10], [\"moto\", 20], [\"trem\", 5], [\"carro\", 30], [\"caminhao\", 20] ]\n",
        "dict_from_list(lista) # Resultado esperado: {'carro': [10, 30], 'moto': [20], 'trem': [5], 'caminhao': [20]}\n",
        "\n"
      ]
    },
    {
      "cell_type": "markdown",
      "metadata": {
        "id": "UzmU2tykCZ4X"
      },
      "source": [
        "### 3.5 Escreva uma função Python para computar o valor total de uma compra de supermercado e dar baixa no estoque (deduzir a quantidade comprada da quantidade em estoque). Retorne o valor total da compra e altere o dicionário de estoque sem retorná-lo.\n",
        "#### Se a quantidade do item em estoque for menor do que a quantidade da lista de compra, o estoque restante deve ser vendido.\n",
        "\n",
        "#### Exemplo:  \n",
        "####                   ```lista_compras = {\"arroz\":1, \"feijao\":2, \"macarrao\":3}```\n",
        "####                   ```estoque = {\"arroz\": 60, \"feijao\": 30, \"macarrao\": 1, \"farinha\": 15}```\n",
        "####                   ```precos = {\"arroz\": 4, \"feijao\": 2, \"macarrao\": 1.5, \"farinha\": 3}```\n",
        "#### Resultado esperado: ```total = 9.5```"
      ]
    },
    {
      "cell_type": "code",
      "execution_count": null,
      "metadata": {
        "id": "QOMpFRERCZ4X",
        "nbgrader": {
          "grade": false,
          "grade_id": "cell-fb745f3563064d90",
          "locked": false,
          "schema_version": 3,
          "solution": true,
          "task": false
        }
      },
      "outputs": [],
      "source": [
        "def compra(estoque, precos, lista):\n",
        "    ### BEGIN SOLUTION\n",
        "\n",
        "    ### END SOLUTION"
      ]
    },
    {
      "cell_type": "code",
      "execution_count": null,
      "metadata": {
        "id": "njCekVCCCZ4Y"
      },
      "outputs": [],
      "source": [
        "## Faça seus testes aqui\n",
        "lista_compras = {\"arroz\":1, \"feijao\":2, \"macarrao\":3}\n",
        "estoque = {\"arroz\": 60, \"feijao\": 30, \"macarrao\": 1, \"farinha\": 15}\n",
        "precos = {\"arroz\": 4, \"feijao\": 2, \"macarrao\": 1.5, \"farinha\": 3}\n",
        "compra(estoque, precos, lista_compras) # Resultado esperado: 9.5\n",
        "\n"
      ]
    },
    {
      "cell_type": "markdown",
      "metadata": {
        "id": "2e6i-WlCCZ4Y"
      },
      "source": [
        "### 3.6 Usando o tipo de dados set (conjuntos) do python, crie uma função python que  retorne os elementos que não estão na intersecção das duas listas passadas como argumento. O retorno deve ser uma lista.\n",
        "#### Exemplo:\n",
        "```\n",
        "lista1 = [\"awerr\", \"aa\", \"awyt\", \"g\", \"sssaere\"]\n",
        "lista2 = [\"awerr\", \"aa\", \"sssaere\", \"aabb\", \"qwerttt\", \"12345\"]```\n",
        "#### Retorno esperado:\n",
        "```\n",
        "['awyt', 'g', 'aabb', 'qwerttt', '12345']```\n",
        "#### dica 1: Converta as listas para set. Exemplo: ```c1=set(lista1)```\n",
        "#### dica 2: crie o conjunto interseção e o conjunto uniao dos dois conjuntos correspondentes às duas listas.\n",
        "#### dica 3: faça a diferença entre a união e a interseção.\n",
        "#### dica 4: faça a conversão do conjunto resultado para lista: ```resultado = list(c)```\n",
        "\n"
      ]
    },
    {
      "cell_type": "code",
      "execution_count": null,
      "metadata": {
        "id": "qWzwJkO3CZ4Z",
        "nbgrader": {
          "grade": false,
          "grade_id": "cell-06bc42e7cd22bdcf",
          "locked": false,
          "schema_version": 3,
          "solution": true,
          "task": false
        }
      },
      "outputs": [],
      "source": [
        "def not_union_inters(l1, l2):\n",
        "    ### BEGIN SOLUTION\n",
        "\n",
        "    ### END SOLUTION"
      ]
    },
    {
      "cell_type": "code",
      "execution_count": null,
      "metadata": {
        "id": "q0UZb9TLCZ4Z"
      },
      "outputs": [],
      "source": [
        "## Faça seus testes aqui\n",
        "lista1 = [\"awerr\", \"aa\", \"awyt\", \"g\", \"sssaere\"]\n",
        "lista2 = [\"awerr\", \"aa\", \"sssaere\", \"aabb\", \"qwerttt\", \"12345\"]\n",
        "not_union_inters(lista1, lista2) # Resultado esperado: ['12345', 'qwerttt', 'awyt', 'aabb', 'g']\n",
        "\n"
      ]
    },
    {
      "cell_type": "markdown",
      "metadata": {
        "id": "4qBw1k-qCZ4Z"
      },
      "source": [
        "### 3.7 Crie uma função para gerar tuplas compostas pelos elementos em posições de mesmo ínidce numa lista e na sua lista reversa. A lista deve ser passada como argumento da função.\n",
        "#### Exemplo:\n",
        "```lista = [1, 4, 6, 10, 5]\n",
        "lista_reversa = [5, 10, 6, 4, 1]```\n",
        "#### Resultado esperado:\n",
        "```[(1,5) , (4,10) , (6,6) , (10,4) , (5,1)]\n",
        "```\n",
        "#### Dica: use a função zip"
      ]
    },
    {
      "cell_type": "code",
      "execution_count": null,
      "metadata": {
        "id": "3qGQ0S_KCZ4a",
        "nbgrader": {
          "grade": false,
          "grade_id": "cell-c651c0d66cc0aeb3",
          "locked": false,
          "schema_version": 3,
          "solution": true,
          "task": false
        }
      },
      "outputs": [],
      "source": [
        "def lista_tuplas(l):\n",
        "    ### BEGIN SOLUTION\n",
        "\n",
        "    ### END SOLUTION"
      ]
    },
    {
      "cell_type": "code",
      "execution_count": null,
      "metadata": {
        "id": "G1QitkeeCZ4a"
      },
      "outputs": [],
      "source": [
        "## Faça seus testes aqui\n",
        "lista = [1, 4, 6, 10, 5]\n",
        "lista_tuplas(lista) # Resultado esperado: [(1, 5), (4, 10), (6, 6), (10, 4), (5, 1)]\n",
        "\n"
      ]
    },
    {
      "cell_type": "markdown",
      "metadata": {
        "id": "ZTOsxGBvCZ4a"
      },
      "source": [
        "### 3.8 Crie uma função python que receba uma lista como argumento, e usando um list comprehenion, crie uma lista de dicionários. A chave de cada dicionário, na lista resultante, deve ser o elemento da lista (passada como argumento) e o valor a sua posição (índice) dentro desta lista.\n",
        "#### Exemplo:\n",
        "```lista = [\"azul\", \"amarelo\", \"vermelho\"]```\n",
        "#### Resultado esperado:\n",
        "```[{\"azul\": 0}, {\"amarelo\": 1}, {\"vermelho\": 2}]```\n",
        "\n",
        "#### Dica: use a função index para extrair o índice de um elemento numa lista. Exemplo: ``` lista.index(\"azul\") ```\n"
      ]
    },
    {
      "cell_type": "code",
      "execution_count": null,
      "metadata": {
        "id": "OvCuM74BCZ4a",
        "nbgrader": {
          "grade": false,
          "grade_id": "cell-07db5d73a369b436",
          "locked": false,
          "schema_version": 3,
          "solution": true,
          "task": false
        }
      },
      "outputs": [],
      "source": [
        "def lista_dicionarios(l):\n",
        "    ### BEGIN SOLUTION\n",
        "\n",
        "    ### END SOLUTION"
      ]
    },
    {
      "cell_type": "code",
      "execution_count": null,
      "metadata": {
        "id": "Q8cfqmFCCZ4b"
      },
      "outputs": [],
      "source": [
        "## Faça seus testes aqui\n",
        "lista = [\"azul\", \"amarelo\", \"vermelho\"]\n",
        "lista_dicionarios(lista) # Resultado esperado: [{'azul': 0}, {'amarelo': 1}, {'vermelho': 2}]\n",
        "\n"
      ]
    },
    {
      "cell_type": "markdown",
      "metadata": {
        "id": "sEUN_sTkCZ4b"
      },
      "source": [
        "### 3.9 Crie uma função python que receba um dicionário (de alunos e notas) como argumento, e usando um list comprehenion, crie uma lista com as respectivas notas abaixo de um certo valor passado como argumento da função.\n",
        "#### Exemplo:\n",
        "\n",
        "```lista = {\"Joao\": 10, \"Jose\": 5, \"Roberta\": 9, \"Maria\": 6}```\n",
        "```minimo = 7```\n",
        "\n",
        "#### Resultado esperado:\n",
        "```[5, 6]```\n",
        "\n",
        "#### Dica: use a seguinte sintaxe de list comprehension ```[i for i in lista if condicao] ``` onde ```condição``` é uma expressão que retorna um valor ```True``` ou ```False```. Neste caso, estarão na lista resultante somente os elementos cuja ```condição``` retornou ```True```.\n"
      ]
    },
    {
      "cell_type": "code",
      "execution_count": null,
      "metadata": {
        "id": "iUNGSpryCZ4b",
        "nbgrader": {
          "grade": false,
          "grade_id": "cell-4afc26f32762755c",
          "locked": false,
          "schema_version": 3,
          "solution": true,
          "task": false
        }
      },
      "outputs": [],
      "source": [
        "def nota_baixa(n, minimo):\n",
        "    ### BEGIN SOLUTION\n",
        "\n",
        "    ### END SOLUTION"
      ]
    },
    {
      "cell_type": "code",
      "execution_count": null,
      "metadata": {
        "id": "hAEwZPu5CZ4b"
      },
      "outputs": [],
      "source": [
        "## Faça seus testes aqui\n",
        "notas = {\"Joao\": 10, \"Jose\": 5, \"Roberta\": 9, \"Maria\": 6}\n",
        "minimo = 7\n",
        "nota_baixa(notas, minimo) # Resultado esperado: [5, 6]\n",
        "\n"
      ]
    },
    {
      "cell_type": "markdown",
      "metadata": {
        "id": "VaN19_8eCZ4c"
      },
      "source": [
        "### Os exercícios a seguir se baseiam num pequeno extrato de um dataset real dos serviços públicos brasileiros. Os serviços a seguir são da Fio Cruz. Execute a próxima célula antes de partir para a resolução do exercício 3.10.\n",
        "\n",
        "#### Curiosidade 1: Se tiver curiosidade consultar a fonte diretamente, execute o seguinte comando num console para ver o resultado em formato JSON: ```curl https://www.servicos.gov.br/api/v1/servicos/orgao/315```\n",
        "#### Curiosidade 2: Se quiser visualizar esses resultados no navegador no formato XML, acesse esta URL no navegador https://www.servicos.gov.br/api/v1/servicos/orgao/315\n",
        "#### Curiosidade 3: Se quiser visualizar esses resultados no navegador no formato JSON, acesse a URL https://jsonformatter.org/json-viewer, e use a função Load Data para carregar os dados da URL https://www.servicos.gov.br/api/v1/servicos/orgao/315.\n",
        "#### Curiosidade 4: 315 é o código Siorg da Fiocruz\n",
        "#### Curiosidade 5: A documentação desta API encontra-se publicada em https://www.servicos.gov.br/api/v1/docs"
      ]
    },
    {
      "cell_type": "code",
      "execution_count": null,
      "metadata": {
        "id": "zqr4xNKLCZ4c"
      },
      "outputs": [],
      "source": [
        "# Execute esta célula para criar a variavel servicos que vai conter a lista de serviços\n",
        "# Na disciplina D20 será aprofundado esse assunto de requisições HTTP e APIs com python e curl\n",
        "# Importar a biblioteca que faz requisições HTTP\n",
        "import requests\n",
        "# Fazer uma requisição HTTP\n",
        "r = requests.get(\"https://www.servicos.gov.br/api/v1/servicos/orgao/315\")\n",
        "# Transformar a resposta em JSON e pegar a lista de serviços cuja chave é \"resposta\"\n",
        "servicos = r.json()[\"resposta\"]\n",
        "# Imprimir o primeiro serviço da lista\n",
        "print(servicos[0])"
      ]
    },
    {
      "cell_type": "markdown",
      "metadata": {
        "id": "MUhYUfV1CZ4c"
      },
      "source": [
        "### 3.10 Percorra a lista ```servicos``` selecionando os atributos de interesse ```nome, sigla, servicoDigital, nomeOrgao```. Construa o atributo ```id_servico``` a partir do atributo ```id``` coletando o número (id do serviço) que aparece depois da ultima barra da URL do serviço. Construa um dicionário de dicionários. No dicionário externo as chaves são o ```id_servico```, e seu respectivo valor deve ser um dicionário com os atributos de interesse.\n",
        "\n",
        "#### Dica 1: Consulte o conteúdo da requisição que retorna o dicionário de serviços (veja as curiosidades apresentadas acima). E a partir da inspeção do conteúdo escolha o nome das chaves do dicionário cujo valor deseja acessar. Essas chaves coincidem com o nome dos atributos do enunciado.\n",
        "#### Dica 2: O nome do órgão não está no primeiro nível do dicionário. Para acessar o nome, acesse um dicionário por meio da chave ```\"orgao\"``` e dentro dele haverá uma chave ```\"nomeOrgao\"```. Ou seja ```dicionario[\"orgao\"][\"nomeOrgao\"]```. Confira isso por meio de uma inspeção visual."
      ]
    },
    {
      "cell_type": "code",
      "execution_count": null,
      "metadata": {
        "id": "MUOGOmj5CZ4c",
        "nbgrader": {
          "grade": false,
          "grade_id": "cell-787017167e839bb1",
          "locked": false,
          "schema_version": 3,
          "solution": true,
          "task": false
        }
      },
      "outputs": [],
      "source": [
        "def atributos_interesse(serv):\n",
        "    ### BEGIN SOLUTION\n",
        "\n",
        "    ### END SOLUTION"
      ]
    },
    {
      "cell_type": "code",
      "execution_count": null,
      "metadata": {
        "id": "7PnqH3YTCZ4d"
      },
      "outputs": [],
      "source": [
        "## Faça seus testes aqui\n",
        "atr_inter = atributos_interesse(servicos)\n",
        "atr_inter['9031'] # Resultado esperado: {'nome': 'Solicitar diagnóstico de referência em chikungunya',\n",
        "                  #                      'sigla': 'LABFLA', 'servicoDigital': False, 'nomeOrgao':\n",
        "                  #                      'Fundação Oswaldo Cruz (FIOCRUZ)'}"
      ]
    },
    {
      "cell_type": "markdown",
      "metadata": {
        "id": "V5GKmHzKCZ4d"
      },
      "source": [
        "### 3.11 Crie uma função que receba como argumento o dicionário do exercício anterior e calcule a porcentagem de serviços digitais presentes no dicionário."
      ]
    },
    {
      "cell_type": "code",
      "execution_count": null,
      "metadata": {
        "id": "_BY4EMcDCZ4d",
        "nbgrader": {
          "grade": false,
          "grade_id": "cell-44e66bb6d2a495c1",
          "locked": false,
          "schema_version": 3,
          "solution": true,
          "task": false
        }
      },
      "outputs": [],
      "source": [
        "def calc_porcentagem_digital(servs):\n",
        "    ### BEGIN SOLUTION\n",
        "\n",
        "    ### END SOLUTION\n",
        ""
      ]
    },
    {
      "cell_type": "code",
      "execution_count": null,
      "metadata": {
        "id": "TtdjdlqJCZ4d"
      },
      "outputs": [],
      "source": [
        "## Faça seus testes aqui\n",
        "atr_inter = atributos_interesse(servicos)\n",
        "calc_porcentagem_digital(atr_inter) # Resultado esperado: 0.2362...\n",
        "\n"
      ]
    }
  ],
  "metadata": {
    "celltoolbar": "Create Assignment",
    "colab": {
      "name": "Aula3_Exercicio_Extra_Solucoes.ipynb",
      "provenance": [],
      "include_colab_link": true
    },
    "kernelspec": {
      "display_name": "Python 3",
      "language": "python",
      "name": "python3"
    },
    "language_info": {
      "codemirror_mode": {
        "name": "ipython",
        "version": 3
      },
      "file_extension": ".py",
      "mimetype": "text/x-python",
      "name": "python",
      "nbconvert_exporter": "python",
      "pygments_lexer": "ipython3",
      "version": "3.8.3"
    },
    "name": "_merged",
    "varInspector": {
      "cols": {
        "lenName": 16,
        "lenType": 16,
        "lenVar": 40
      },
      "kernels_config": {
        "python": {
          "delete_cmd_postfix": "",
          "delete_cmd_prefix": "del ",
          "library": "var_list.py",
          "varRefreshCmd": "print(var_dic_list())"
        },
        "r": {
          "delete_cmd_postfix": ") ",
          "delete_cmd_prefix": "rm(",
          "library": "var_list.r",
          "varRefreshCmd": "cat(var_dic_list()) "
        }
      },
      "types_to_exclude": [
        "module",
        "function",
        "builtin_function_or_method",
        "instance",
        "_Feature"
      ],
      "window_display": false
    }
  },
  "nbformat": 4,
  "nbformat_minor": 0
}
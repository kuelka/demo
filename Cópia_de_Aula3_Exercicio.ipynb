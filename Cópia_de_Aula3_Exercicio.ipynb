{
  "cells": [
    {
      "cell_type": "markdown",
      "metadata": {
        "id": "view-in-github",
        "colab_type": "text"
      },
      "source": [
        "<a href=\"https://colab.research.google.com/github/kuelka/demo/blob/main/C%C3%B3pia_de_Aula3_Exercicio.ipynb\" target=\"_parent\"><img src=\"https://colab.research.google.com/assets/colab-badge.svg\" alt=\"Open In Colab\"/></a>"
      ]
    },
    {
      "cell_type": "markdown",
      "metadata": {
        "id": "kwUKSvj7Ki4C"
      },
      "source": [
        "# Aula 3 - Exercícios - Estruturas de Dados Nativas do Python"
      ]
    },
    {
      "cell_type": "markdown",
      "metadata": {
        "id": "MjpHRMvIKi4D"
      },
      "source": [
        "### 3.1 Escreva uma função Python para gerar um dicionário que contenha pares (chave e valor) de números. A chave deve variar de 1 a n, e os valores sejam o valor da chave elevado ao quadrado.\n",
        "#### Exemplo:  Para ```n = 5```\n",
        "#### Resultado Esperado: ```{1: 1, 2: 4, 3: 9, 4: 16, 5: 25}```\n",
        "#### Dica: use a função ```range``` para criar a sequencia de numeros desejados\n"
      ]
    },
    {
      "cell_type": "code",
      "execution_count": null,
      "metadata": {
        "nbgrader": {
          "grade": false,
          "grade_id": "cell-e161117ff990a01e",
          "locked": false,
          "schema_version": 3,
          "solution": true,
          "task": false
        },
        "id": "NMzJFcbQKi4E"
      },
      "outputs": [],
      "source": [
        "def create_dict(n):\n",
        "    \"\"\"retorne um dicionário com pares (x, x*x)\n",
        "    \"\"\"\n",
        "    ### BEGIN SOLUTION\n",
        "    return {x: x*x for x in range(1, n+1)}\n",
        "    ### END SOLUTION"
      ]
    },
    {
      "cell_type": "code",
      "execution_count": null,
      "metadata": {
        "colab": {
          "base_uri": "https://localhost:8080/"
        },
        "id": "ZLWm4WYyKi4E",
        "outputId": "3497ae04-c47b-4fe2-c26d-af4fc63302b9"
      },
      "outputs": [
        {
          "output_type": "execute_result",
          "data": {
            "text/plain": [
              "{1: 1, 2: 4, 3: 9, 4: 16, 5: 25}"
            ]
          },
          "metadata": {},
          "execution_count": 11
        }
      ],
      "source": [
        "## Faça seus testes aqui\n",
        "create_dict(5) # Resultado esperado: {1: 1, 2: 4, 3: 9, 4: 16, 5: 25}"
      ]
    },
    {
      "cell_type": "code",
      "execution_count": null,
      "metadata": {
        "id": "vorI6X71Ki4E"
      },
      "outputs": [],
      "source": [
        "# Validação\n",
        "entradas = [[5]]\n"
      ]
    },
    {
      "cell_type": "markdown",
      "metadata": {
        "id": "_zvC2g2NKi4E"
      },
      "source": [
        "### 3.2 Escreva uma função Python para remover itens duplicados de um dicionário, ou seja, cujos valores estejam duplicados.\n",
        "#### Exemplo:  ```d = {1: 1, 2: 1, 3: 9, 4: 1, 5: 25}```\n",
        "#### Resultado Esperado: ```{1: 1, 3: 9, 5: 25}```"
      ]
    },
    {
      "cell_type": "code",
      "execution_count": null,
      "metadata": {
        "nbgrader": {
          "grade": false,
          "grade_id": "cell-732445412e4cafc4",
          "locked": false,
          "schema_version": 3,
          "solution": true,
          "task": false
        },
        "id": "akt1p-1XKi4F"
      },
      "outputs": [],
      "source": [
        "def remove_duplicates(data):\n",
        "    \"\"\"retorne um dicionário sem duplicatas\n",
        "    \"\"\"\n",
        "    ### BEGIN SOLUTION\n",
        "    seen_values = set()\n",
        "    novo_dic = {}\n",
        "    for key, value in data.items():\n",
        "        if value not in seen_values:\n",
        "            novo_dic[key] = value\n",
        "            seen_values.add(value)\n",
        "    return novo_dic\n",
        "    ### END SOLUTION"
      ]
    },
    {
      "cell_type": "code",
      "execution_count": null,
      "metadata": {
        "colab": {
          "base_uri": "https://localhost:8080/"
        },
        "id": "DY--5ogxKi4F",
        "outputId": "9f277299-1bfe-41f2-93fc-3974d46fa796"
      },
      "outputs": [
        {
          "output_type": "execute_result",
          "data": {
            "text/plain": [
              "{1: 1, 3: 9, 5: 25}"
            ]
          },
          "metadata": {},
          "execution_count": 90
        }
      ],
      "source": [
        "## Faça seus testes aqui\n",
        "remove_duplicates({1: 1, 2: 1, 3: 9, 4: 1, 5: 25}) # Resultado esperado: {1: 1, 3: 9, 5: 25}"
      ]
    },
    {
      "cell_type": "code",
      "execution_count": null,
      "metadata": {
        "id": "Ah_iMwjRKi4F"
      },
      "outputs": [],
      "source": [
        "# Validação\n",
        "data = {'id1': {'nome': ['Sara'], 'classe': ['A'], 'disciplina': ['portugues, historia, ciencia']},\n",
        "        'id2': {'nome': ['Joao'], 'classe': ['A'], 'disciplina': ['portugues, historia, ciencia']},\n",
        "        'id3': {'nome': ['Sara'], 'classe': ['A'], 'disciplina': ['portugues, historia, ciencia']},\n",
        "        'id4': {'nome': ['Maria'], 'classe': ['A'], 'disciplina': ['portugues, historia, ciencia']}\n",
        "}\n",
        "no_duplicates = {'id1': {'nome': ['Sara'], 'classe': ['A'], 'disciplina': ['portugues, historia, ciencia']},\n",
        "                 'id2': {'nome': ['Joao'], 'classe': ['A'], 'disciplina': ['portugues, historia, ciencia']},\n",
        "                 'id4': {'nome': ['Maria'], 'classe': ['A'], 'disciplina': ['portugues, historia, ciencia']}}\n"
      ]
    },
    {
      "cell_type": "markdown",
      "metadata": {
        "id": "Udz25YBUKi4F"
      },
      "source": [
        "### 3.3 Escreva uma função Python para combinar os itens de mesma chave de uma lista de  dicionários, somando os valores correspondentes.\n",
        "#### Exemplo:  para ```[{'item': 'carro', 'quantidade': 400}, {'item': 'moto', 'quantidade': 300}, {'item': 'carro', 'quantidade': 750}]```\n",
        "#### Resultado esperado: ```{'carro': 1150, 'moto': 300}```"
      ]
    },
    {
      "cell_type": "code",
      "execution_count": null,
      "metadata": {
        "id": "DsuaYxqLKi4F"
      },
      "outputs": [],
      "source": [
        "def combine_items(item_list):\n",
        "    \"\"\"retorne um dicionário combinando (somando) as quantidades do mesmo item\n",
        "    \"\"\"\n",
        "    ### BEGIN SOLUTION\n",
        "    Resultado = {} #Cirando um dicionário vazio\n",
        "    for item in item_list: #para cada item na lista de itens\n",
        "        if item['item'] in Resultado: #Se o item atribuido a 'item' já estiver no resultado\n",
        "            Resultado[item['item']] += item['quantidade'] #adiciona o valor atribuido a quantidade na quantidade que está no item somando o valor anterior ao novo\n",
        "        else:\n",
        "            Resultado[item['item']] = item['quantidade'] #caso contrário adiciona o item e a quantidade\n",
        "    return Resultado\n",
        "    ### END SOLUTION"
      ]
    },
    {
      "cell_type": "code",
      "execution_count": null,
      "metadata": {
        "colab": {
          "base_uri": "https://localhost:8080/"
        },
        "id": "13dk-VyRKi4F",
        "outputId": "23d9771f-9706-4fae-844a-e80e2a559f9f"
      },
      "outputs": [
        {
          "output_type": "execute_result",
          "data": {
            "text/plain": [
              "{'carro': 1150, 'moto': 300}"
            ]
          },
          "metadata": {},
          "execution_count": 86
        }
      ],
      "source": [
        "## Faça seus testes aqui\n",
        "ent = [{'item': 'carro', 'quantidade': 400},\n",
        "              {'item': 'moto', 'quantidade': 300},\n",
        "              {'item': 'carro', 'quantidade': 750}]\n",
        "combine_items(ent) # Resultado esperado:  {'carro': 1150, 'moto': 300}\n",
        "\n"
      ]
    },
    {
      "cell_type": "code",
      "execution_count": null,
      "metadata": {
        "id": "WGZFRo0AKi4G"
      },
      "outputs": [],
      "source": [
        "# Validação\n",
        "entradas = [[[{'item': 'carro', 'quantidade': 400},\n",
        "              {'item': 'moto', 'quantidade': 300},\n",
        "              {'item': 'carro', 'quantidade': 750}]]]\n",
        "saidas = [{'carro': 1150, 'moto': 300}]\n"
      ]
    },
    {
      "cell_type": "markdown",
      "metadata": {
        "id": "i8Od2-wSKi4G"
      },
      "source": [
        "### 3.4 Usando um defaultdict, escreva uma função Python para transformar uma lista de listas num dicionário. Os valores repetidos de uma lista devem ser associados a mesma chave do dicionário, como no exemplo abaixo.\n",
        "#### Exemplo:  ```[ [\"carro\", 10], [\"moto\", 20], [\"trem\", 5], [\"carro\", 30], [\"caminhao\", 20] ]```\n",
        "#### Resultado esperado: ```{\"carro\": [10, 30], \"moto\": [20], \"trem\": [5], \"caminhao\": [20] }```"
      ]
    },
    {
      "cell_type": "code",
      "execution_count": null,
      "metadata": {
        "id": "WTF8R14RKi4G"
      },
      "outputs": [],
      "source": [
        "def dict_from_list(lista):\n",
        "    ### BEGIN SOLUTION\n",
        "    from collections import defaultdict #importa a biblioteca\n",
        "    dic = defaultdict(list) #cria um dicionário padrão utilizando uma lista vazia\n",
        "    for key, value in lista: # para cada chave que tiver na lista e valor\n",
        "        dic[key].append(value) # Verificar a chave e adicionando o valor nela, a keyword de dic padrão já adiciona automaticamente a chave caso ela n exista ainda.\n",
        "    return dict(dic) #retornando o resultado da criação da lista e transformando em dicionário por meio da variavel dic\n",
        "    ### END SOLUTION"
      ]
    },
    {
      "cell_type": "code",
      "execution_count": null,
      "metadata": {
        "colab": {
          "base_uri": "https://localhost:8080/"
        },
        "id": "i5ADUP7jKi4G",
        "outputId": "473be835-e177-4233-ad98-b884eafeefab"
      },
      "outputs": [
        {
          "output_type": "execute_result",
          "data": {
            "text/plain": [
              "{'carro': [10, 30], 'moto': [20], 'trem': [5], 'caminhao': [20]}"
            ]
          },
          "metadata": {},
          "execution_count": 94
        }
      ],
      "source": [
        "## Faça seus testes aqui\n",
        "lista = [ [\"carro\", 10], [\"moto\", 20], [\"trem\", 5], [\"carro\", 30], [\"caminhao\", 20] ]\n",
        "dict_from_list(lista) # Resultado esperado: {'carro': [10, 30], 'moto': [20], 'trem': [5], 'caminhao': [20]}\n",
        "\n"
      ]
    },
    {
      "cell_type": "code",
      "execution_count": null,
      "metadata": {
        "id": "6XgO616kKi4G"
      },
      "outputs": [],
      "source": [
        "# Validação\n",
        "entradas = [[[ [\"carro\", 10], [\"moto\", 20], [\"trem\", 5], [\"carro\", 30], [\"caminhao\", 20] ]]]\n",
        "saidas = [{'carro': [10, 30], 'moto': [20], 'trem': [5], 'caminhao': [20]}]\n"
      ]
    }
  ],
  "metadata": {
    "celltoolbar": "Create Assignment",
    "kernelspec": {
      "display_name": "Python 3",
      "language": "python",
      "name": "python3"
    },
    "language_info": {
      "codemirror_mode": {
        "name": "ipython",
        "version": 3
      },
      "file_extension": ".py",
      "mimetype": "text/x-python",
      "name": "python",
      "nbconvert_exporter": "python",
      "pygments_lexer": "ipython3",
      "version": "3.8.3"
    },
    "name": "_merged",
    "varInspector": {
      "cols": {
        "lenName": 16,
        "lenType": 16,
        "lenVar": 40
      },
      "kernels_config": {
        "python": {
          "delete_cmd_postfix": "",
          "delete_cmd_prefix": "del ",
          "library": "var_list.py",
          "varRefreshCmd": "print(var_dic_list())"
        },
        "r": {
          "delete_cmd_postfix": ") ",
          "delete_cmd_prefix": "rm(",
          "library": "var_list.r",
          "varRefreshCmd": "cat(var_dic_list()) "
        }
      },
      "types_to_exclude": [
        "module",
        "function",
        "builtin_function_or_method",
        "instance",
        "_Feature"
      ],
      "window_display": false
    },
    "colab": {
      "provenance": [],
      "include_colab_link": true
    }
  },
  "nbformat": 4,
  "nbformat_minor": 0
}